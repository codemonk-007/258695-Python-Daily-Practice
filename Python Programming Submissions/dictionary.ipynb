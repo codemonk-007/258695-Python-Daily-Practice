{
 "cells": [
  {
   "cell_type": "code",
   "execution_count": 1,
   "metadata": {},
   "outputs": [
    {
     "name": "stdout",
     "output_type": "stream",
     "text": [
      "Dictionary 1 :  {'a': 10, 'b': 8}\n",
      "Dictionary 2 :  {'d': 6, 'c': 4}\n",
      "Merged dictionary is :  {'d': 6, 'c': 4, 'a': 10, 'b': 8}\n"
     ]
    }
   ],
   "source": [
    "#question 1\n",
    "\n",
    "def merge_dict(dict1, dict2):\n",
    "    return(dict2.update(dict1))\n",
    "\n",
    "\n",
    "dict1 = {'a': 10, 'b': 8}\n",
    "dict2 = {'d': 6, 'c': 4}\n",
    "\n",
    "print(\"Dictionary 1 : \", dict1)\n",
    "print(\"Dictionary 2 : \", dict2)\n",
    "\n",
    "merge_dict(dict1,dict2)\n",
    "\n",
    "print(\"Merged dictionary is : \",dict2)\n"
   ]
  },
  {
   "cell_type": "markdown",
   "metadata": {},
   "source": [
    "#### Question 2"
   ]
  },
  {
   "cell_type": "code",
   "execution_count": 9,
   "metadata": {},
   "outputs": [
    {
     "name": "stdout",
     "output_type": "stream",
     "text": [
      "{'A': {'B': {'C': {'D': {}}}}}\n"
     ]
    }
   ],
   "source": [
    "num_list = ['A','B','C','D']\n",
    "nested_dict = curr = {}\n",
    "for key in num_list:\n",
    "    curr[key] = {}\n",
    "    curr = curr[key]\n",
    "print(nested_dict)"
   ]
  },
  {
   "cell_type": "code",
   "execution_count": null,
   "metadata": {},
   "outputs": [],
   "source": []
  }
 ],
 "metadata": {
  "kernelspec": {
   "display_name": "Python 3",
   "language": "python",
   "name": "python3"
  },
  "language_info": {
   "codemirror_mode": {
    "name": "ipython",
    "version": 3
   },
   "file_extension": ".py",
   "mimetype": "text/x-python",
   "name": "python",
   "nbconvert_exporter": "python",
   "pygments_lexer": "ipython3",
   "version": "3.7.6"
  }
 },
 "nbformat": 4,
 "nbformat_minor": 4
}
