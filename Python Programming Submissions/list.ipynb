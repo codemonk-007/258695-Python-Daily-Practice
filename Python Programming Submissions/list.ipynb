{
 "cells": [
  {
   "cell_type": "markdown",
   "metadata": {},
   "source": [
    "#### QUESTION 1"
   ]
  },
  {
   "cell_type": "code",
   "execution_count": 3,
   "metadata": {},
   "outputs": [
    {
     "name": "stdin",
     "output_type": "stream",
     "text": [
      "\n",
      "Enter the numbers :  8 5 0 7 4 3 2 5 8 9 7 54 3 \n"
     ]
    },
    {
     "name": "stdout",
     "output_type": "stream",
     "text": [
      "Second Smallest number in list is :  2\n"
     ]
    }
   ],
   "source": [
    "def sec_small_num(num_list):\n",
    "    smallest = float('inf')\n",
    "    for ele in num_list:\n",
    "        smallest = min(ele,smallest)\n",
    "    second_smallest = float('inf')\n",
    "    for ele in num_list :\n",
    "        if ele != smallest:\n",
    "            second_smallest = min(ele,second_smallest)\n",
    "    print(\"Second Smallest number in list is : \",second_smallest)\n",
    "\n",
    "num_list = list(map(int,input(\"\\nEnter the numbers : \").strip().split()))\n",
    "sec_small_num(num_list)\n",
    "    "
   ]
  },
  {
   "cell_type": "markdown",
   "metadata": {},
   "source": [
    "#### QUESTION 2"
   ]
  },
  {
   "cell_type": "code",
   "execution_count": 6,
   "metadata": {},
   "outputs": [
    {
     "name": "stdin",
     "output_type": "stream",
     "text": [
      "\n",
      "Enter the numbers :  1 0 3 2 5 4\n"
     ]
    },
    {
     "name": "stdout",
     "output_type": "stream",
     "text": [
      "[0, 1, 2, 3, 4, 5]\n"
     ]
    }
   ],
   "source": [
    "def exchange_list(num_list):\n",
    "    for i in range(len(num_list)):\n",
    "        if i%2!=0:\n",
    "            t= num_list[i]\n",
    "            num_list[i]=num_list[i-1]\n",
    "            num_list[i-1]=t\n",
    "    print(num_list)\n",
    "num_list = list(map(int,input(\"\\nEnter the numbers : \").strip().split()))\n",
    "exchange_list(num_list)"
   ]
  },
  {
   "cell_type": "code",
   "execution_count": null,
   "metadata": {},
   "outputs": [],
   "source": []
  }
 ],
 "metadata": {
  "kernelspec": {
   "display_name": "Python 3",
   "language": "python",
   "name": "python3"
  },
  "language_info": {
   "codemirror_mode": {
    "name": "ipython",
    "version": 3
   },
   "file_extension": ".py",
   "mimetype": "text/x-python",
   "name": "python",
   "nbconvert_exporter": "python",
   "pygments_lexer": "ipython3",
   "version": "3.7.6"
  }
 },
 "nbformat": 4,
 "nbformat_minor": 4
}
