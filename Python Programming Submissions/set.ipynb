{
 "cells": [
  {
   "cell_type": "markdown",
   "metadata": {},
   "source": [
    "#### QUESTION 1"
   ]
  },
  {
   "cell_type": "code",
   "execution_count": 2,
   "metadata": {},
   "outputs": [
    {
     "name": "stdin",
     "output_type": "stream",
     "text": [
      "Enter numbers in set:  2 3 4 56 7 78 89\n"
     ]
    }
   ],
   "source": [
    "def max_min_inset(numset):\n",
    "    max_num = float('-inf')\n",
    "    min_num = float('inf')\n",
    "    for ele in numset:\n",
    "        max_num = max(ele,max_num)\n",
    "        min_num = min(ele,min_num)\n",
    "    print(\"Maximum number in set is \",max_num)\n",
    "    print(\"\")\n",
    "num_set = set(map(int, input('Enter numbers in set: ').split()))\n",
    "max_min_inset(num_set)"
   ]
  },
  {
   "cell_type": "code",
   "execution_count": null,
   "metadata": {},
   "outputs": [],
   "source": []
  }
 ],
 "metadata": {
  "kernelspec": {
   "display_name": "Python 3",
   "language": "python",
   "name": "python3"
  },
  "language_info": {
   "codemirror_mode": {
    "name": "ipython",
    "version": 3
   },
   "file_extension": ".py",
   "mimetype": "text/x-python",
   "name": "python",
   "nbconvert_exporter": "python",
   "pygments_lexer": "ipython3",
   "version": "3.7.6"
  }
 },
 "nbformat": 4,
 "nbformat_minor": 4
}
