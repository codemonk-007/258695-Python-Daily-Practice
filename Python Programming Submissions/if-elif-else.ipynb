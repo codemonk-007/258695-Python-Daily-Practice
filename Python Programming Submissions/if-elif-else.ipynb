{
 "cells": [
  {
   "cell_type": "markdown",
   "metadata": {},
   "source": [
    "#### Question 1"
   ]
  },
  {
   "cell_type": "code",
   "execution_count": 10,
   "metadata": {},
   "outputs": [
    {
     "name": "stdin",
     "output_type": "stream",
     "text": [
      "Input a year:  1998\n",
      "Input a month [1-12]:  11\n",
      "Input a day [1-31]:  28\n"
     ]
    },
    {
     "name": "stdout",
     "output_type": "stream",
     "text": [
      "The next date is [yyyy-mm-dd] 1998-11-29.\n"
     ]
    }
   ],
   "source": [
    "def is_leap(year):\n",
    "    if (year % 400 == 0):\n",
    "        leap_year = True\n",
    "    elif (year % 100 == 0):\n",
    "        leap_year = False\n",
    "    elif (year % 4 == 0):\n",
    "        leap_year = True\n",
    "    else:\n",
    "        leap_year = False\n",
    "\n",
    "    return leap_year\n",
    "    \n",
    "\n",
    "def get_month(month,leap_year):\n",
    "    month_length = 0\n",
    "    if month in (1, 3, 5, 7, 8, 10, 12):   \n",
    "        month_length = 31\n",
    "    elif month == 2:\n",
    "        if leap_year:\n",
    "            month_length = 29\n",
    "        else:\n",
    "            month_length = 28\n",
    "    else:\n",
    "        month_length = 30\n",
    "        \n",
    "    return month_length\n",
    "    \n",
    "\n",
    "def get_day(day,month_len,month,year):\n",
    "    if day < month_len:\n",
    "        day += 1\n",
    "    else:\n",
    "        day = 1\n",
    "        if month == 12:\n",
    "            month = 1\n",
    "            year += 1\n",
    "        else:\n",
    "            month += 1\n",
    "    return day,month,year\n",
    "\n",
    "is_leapyr = False        \n",
    "year = int(input(\"Input a year: \"))\n",
    "month = int(input(\"Input a month [1-12]: \"))\n",
    "day = int(input(\"Input a day [1-31]: \"))\n",
    "\n",
    "is_leapyr = is_leap(year)\n",
    "month_len = get_month(month,is_leapyr)\n",
    "day,month,year = get_day(day,month_len,month,year)\n",
    "\n",
    "print(\"The next date is [yyyy-mm-dd] %d-%d-%d.\" % (year, month, day))\n"
   ]
  },
  {
   "cell_type": "markdown",
   "metadata": {},
   "source": [
    "#### Question 2"
   ]
  },
  {
   "cell_type": "code",
   "execution_count": 14,
   "metadata": {},
   "outputs": [
    {
     "name": "stdin",
     "output_type": "stream",
     "text": [
      "Enter ABBREVIATION: smh\n"
     ]
    },
    {
     "name": "stdout",
     "output_type": "stream",
     "text": [
      "Shaking My Head\n"
     ]
    }
   ],
   "source": [
    "def check_user_abbr(user_input):\n",
    "    if user_input == \"lol\":\n",
    "        print(\"Laugh Out Loud\")\n",
    "    elif user_input == \"rofl\":\n",
    "        print(\"Rolling on the floor Laughing\")\n",
    "    elif user_input == \"lmk\":\n",
    "        print(\"Let Me Know\")\n",
    "    elif user_input == \"smh\":\n",
    "        print(\"Shaking My Head\")\n",
    "    else:\n",
    "        print(\"Abbreviation not in DATABASE!\")\n",
    "\n",
    "userinput = input(\"Enter ABBREVIATION:\")\n",
    "\n",
    "check_user_abbr(userinput)"
   ]
  },
  {
   "cell_type": "markdown",
   "metadata": {},
   "source": [
    "#### Question 3"
   ]
  },
  {
   "cell_type": "code",
   "execution_count": 16,
   "metadata": {},
   "outputs": [
    {
     "name": "stdin",
     "output_type": "stream",
     "text": [
      "Enter number of pizza slices required:  3\n"
     ]
    },
    {
     "name": "stdout",
     "output_type": "stream",
     "text": [
      "Cost of pizza slices is :  369.0\n"
     ]
    }
   ],
   "source": [
    "def order_price(slices):\n",
    "    if slices%2==0:\n",
    "        print(\"Cost of pizza slices is : \", slices*120.0)\n",
    "    else:\n",
    "        print(\"Cost of pizza slices is : \", slices*123.0)\n",
    "\n",
    "slices = int(input(\"Enter number of pizza slices required: \"))\n",
    "order_price(slices)\n",
    "        "
   ]
  },
  {
   "cell_type": "markdown",
   "metadata": {},
   "source": [
    "#### Question 4"
   ]
  },
  {
   "cell_type": "code",
   "execution_count": 26,
   "metadata": {},
   "outputs": [
    {
     "name": "stdin",
     "output_type": "stream",
     "text": [
      "Enter a Number 23\n",
      "Enter A number 234.567\n",
      "enter A number dfgrgw\n",
      "Enter a number 23+5j\n",
      "Enter a number 0\n"
     ]
    },
    {
     "name": "stdout",
     "output_type": "stream",
     "text": [
      "NUmber is integer and real\n",
      "Number is Float and real\n",
      "Number is string\n",
      "NUmber is complex number\n",
      "NUmber is zero\n"
     ]
    }
   ],
   "source": [
    "def check(num):\n",
    "    isreal = False\n",
    "    if type(num) == int and num!=0:\n",
    "        print(\"NUmber is integer and real\")\n",
    "    elif type(num) == float:\n",
    "        print(\"Number is Float and real\")\n",
    "    elif type(num) == str :\n",
    "        print(\"Number is string\")\n",
    "    elif type(num)  == complex:\n",
    "        print(\"NUmber is complex number\")\n",
    "    elif num == 0:\n",
    "        isreal = True\n",
    "        print(\"NUmber is zero\")\n",
    "\n",
    "int_inp = int(input(\"Enter a Number\"))\n",
    "float_inp = float(input(\"Enter A number\"))\n",
    "str_inp = input(\"enter A number\")\n",
    "complex_inp = complex(input(\"Enter a number\"))\n",
    "zero_inp = int(input(\"Enter a number\"))\n",
    "\n",
    "check(int_inp)\n",
    "check(float_inp)\n",
    "check(str_inp)\n",
    "check(complex_inp)\n",
    "check(zero_inp)\n",
    "\n"
   ]
  }
 ],
 "metadata": {
  "kernelspec": {
   "display_name": "Python 3",
   "language": "python",
   "name": "python3"
  },
  "language_info": {
   "codemirror_mode": {
    "name": "ipython",
    "version": 3
   },
   "file_extension": ".py",
   "mimetype": "text/x-python",
   "name": "python",
   "nbconvert_exporter": "python",
   "pygments_lexer": "ipython3",
   "version": "3.7.6"
  }
 },
 "nbformat": 4,
 "nbformat_minor": 4
}
