{
 "cells": [
  {
   "cell_type": "markdown",
   "metadata": {},
   "source": [
    "#### QUESTION 1\n"
   ]
  },
  {
   "cell_type": "code",
   "execution_count": 4,
   "metadata": {},
   "outputs": [
    {
     "name": "stdin",
     "output_type": "stream",
     "text": [
      "Enter the number in tuple: 1 2 3 3 4 5 6 7\n"
     ]
    },
    {
     "name": "stdout",
     "output_type": "stream",
     "text": [
      "3  is a repeted element \n",
      "3  is a repeted element \n"
     ]
    }
   ],
   "source": [
    "def print_repeated(numtuple):\n",
    "    for ele in numtuple:\n",
    "        if numtuple.count(ele)>1:\n",
    "            print(ele,\" is a repeted element \")\n",
    "\n",
    "num_tuple = tuple(map(int,input(\"Enter the number in tuple:\").split()))\n",
    "print_repeated(num_tuple)"
   ]
  },
  {
   "cell_type": "markdown",
   "metadata": {},
   "source": []
  },
  {
   "cell_type": "code",
   "execution_count": 6,
   "metadata": {},
   "outputs": [
    {
     "name": "stdout",
     "output_type": "stream",
     "text": [
      "{'Oranges': 10, 'guavas': 12, 'apples': 14, 'strawberries': 20, 'grapes': 25, 'cucumber': 30}\n"
     ]
    }
   ],
   "source": [
    "\n",
    "def to_dict(tup, dictionary):\n",
    "    dictionary = dict(tup)\n",
    "    return dictionary\n",
    "\n",
    "\n",
    "tups = [(\"Oranges\", 10), (\"guavas\", 12), (\"apples\", 14),\n",
    "    (\"strawberries\", 20), (\"grapes\", 25), (\"cucumber\", 30)]\n",
    "dictionary = {}\n",
    "dictionary = to_dict(tups, dictionary)\n",
    "print(dictionary)"
   ]
  },
  {
   "cell_type": "code",
   "execution_count": null,
   "metadata": {},
   "outputs": [],
   "source": []
  }
 ],
 "metadata": {
  "kernelspec": {
   "display_name": "Python 3",
   "language": "python",
   "name": "python3"
  },
  "language_info": {
   "codemirror_mode": {
    "name": "ipython",
    "version": 3
   },
   "file_extension": ".py",
   "mimetype": "text/x-python",
   "name": "python",
   "nbconvert_exporter": "python",
   "pygments_lexer": "ipython3",
   "version": "3.7.6"
  }
 },
 "nbformat": 4,
 "nbformat_minor": 4
}
